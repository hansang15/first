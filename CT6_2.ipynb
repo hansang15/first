{
  "nbformat": 4,
  "nbformat_minor": 0,
  "metadata": {
    "colab": {
      "provenance": [],
      "authorship_tag": "ABX9TyPh0sY/NQzpkgAH262dnsuw",
      "include_colab_link": true
    },
    "kernelspec": {
      "name": "python3",
      "display_name": "Python 3"
    },
    "language_info": {
      "name": "python"
    }
  },
  "cells": [
    {
      "cell_type": "markdown",
      "metadata": {
        "id": "view-in-github",
        "colab_type": "text"
      },
      "source": [
        "<a href=\"https://colab.research.google.com/github/hansang15/first/blob/main/CT6_2.ipynb\" target=\"_parent\"><img src=\"https://colab.research.google.com/assets/colab-badge.svg\" alt=\"Open In Colab\"/></a>"
      ]
    },
    {
      "cell_type": "markdown",
      "source": [
        "학생 10명의 성적을 입력받아 평균을 계산하는 알고리즘을 의사코드로 표현해보자"
      ],
      "metadata": {
        "id": "Jad8mDcVXb_I"
      }
    },
    {
      "cell_type": "code",
      "source": [
        "total=0                                                  # 성적 총합을 0으로 초기화한다\n",
        "counter=1                                                # 학생 수를 1로 초기화한다\n",
        "while counter <= 10:                                     # 10명의 학생 성적을 입력 받기 위한 반복문\n",
        "       grade=int(input(\"10명의 성적을 입력하시오.:\"))    # 학생의 성적을 입력 \n",
        "       total=grade + total                               # 입력받은 학생 성적+total\n",
        "       counter=counter+1                                 # 학생 수+1 , 한 명씩 증가\n",
        "average = total / 10                                     # 입력받은 학생들의 평균 성적 계산\n",
        "print('학생들의 평균 성적=',average)                     # 평균 성적 계산 결과"
      ],
      "metadata": {
        "colab": {
          "base_uri": "https://localhost:8080/"
        },
        "id": "FPeaSRUsXzlH",
        "outputId": "6f0a05d5-ffa4-4bae-b408-0245eb8c64a6"
      },
      "execution_count": 10,
      "outputs": [
        {
          "output_type": "stream",
          "name": "stdout",
          "text": [
            "10명의 성적을 입력하시오.:35\n",
            "10명의 성적을 입력하시오.:35\n",
            "10명의 성적을 입력하시오.:35\n",
            "10명의 성적을 입력하시오.:35\n",
            "10명의 성적을 입력하시오.:35\n",
            "10명의 성적을 입력하시오.:35\n",
            "10명의 성적을 입력하시오.:35\n",
            "10명의 성적을 입력하시오.:35\n",
            "10명의 성적을 입력하시오.:35\n",
            "10명의 성적을 입력하시오.:35\n",
            "학생들의 평균 성적= 35.0\n"
          ]
        }
      ]
    }
  ]
}